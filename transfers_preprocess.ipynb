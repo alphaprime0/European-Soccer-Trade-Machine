{
 "cells": [
  {
   "cell_type": "code",
   "execution_count": 23,
   "id": "5f2a7d33",
   "metadata": {},
   "outputs": [],
   "source": [
    "import pandas as pd"
   ]
  },
  {
   "cell_type": "code",
   "execution_count": 24,
   "id": "e0e002f8",
   "metadata": {},
   "outputs": [
    {
     "data": {
      "text/plain": [
       "array(['Premier League', 'Serie A', 'Premier Liga', 'Liga Nos',\n",
       "       'Eredivisie', 'Bundesliga', 'La Liga', 'Ligue 1'], dtype=object)"
      ]
     },
     "execution_count": 24,
     "metadata": {},
     "output_type": "execute_result"
    }
   ],
   "source": [
    "eng = pd.read_csv('premier_league.csv').sort_values(by=['year'], ascending=False)\n",
    "ita = pd.read_csv('serie_a.csv').sort_values(by=['year'], ascending=False)\n",
    "rus = pd.read_csv('premier_liga.csv').sort_values(by=['year'], ascending=False)\n",
    "por = pd.read_csv('liga_nos.csv').sort_values(by=['year'], ascending=False)\n",
    "net = pd.read_csv('eredivisie.csv').sort_values(by=['year'], ascending=False)\n",
    "ger = pd.read_csv('bundesliga.csv').sort_values(by=['year'], ascending=False)\n",
    "spa = pd.read_csv('primera_division.csv').sort_values(by=['year'], ascending=False)\n",
    "fra = pd.read_csv('ligue_1.csv').sort_values(by=['year'], ascending=False)\n",
    "\n",
    "# Concatenate dataframes\n",
    "concatenated_df = pd.concat([eng, ita, rus, por, net, ger, spa, fra], ignore_index=True)\n",
    "\n",
    "# Filter rows with year == 2022 and fee not containing 'loan' or 'Loan'\n",
    "concatenated_df['fee'] = concatenated_df['fee'].astype(str)  # Convert 'fee' column to string\n",
    "concatenated_df = concatenated_df[(concatenated_df['year'] == 2022) & (~concatenated_df['fee'].str.contains('loan|Loan', case=False))]\n",
    "\n",
    "# Reset index\n",
    "concatenated_df.reset_index(drop=True, inplace=True)\n",
    "\n",
    "concatenated_df['league_name'] = concatenated_df['league_name'].replace({'1 Bundesliga': 'Bundesliga', 'Primera Division': 'La Liga'})\n",
    "\n",
    "concatenated_df['league_name'].unique()"
   ]
  },
  {
   "cell_type": "code",
   "execution_count": 25,
   "id": "f6bd62dc",
   "metadata": {},
   "outputs": [],
   "source": [
    "concatenated_df.to_csv('2022_transfers.csv')"
   ]
  }
 ],
 "metadata": {
  "kernelspec": {
   "display_name": "Python 3 (ipykernel)",
   "language": "python",
   "name": "python3"
  },
  "language_info": {
   "codemirror_mode": {
    "name": "ipython",
    "version": 3
   },
   "file_extension": ".py",
   "mimetype": "text/x-python",
   "name": "python",
   "nbconvert_exporter": "python",
   "pygments_lexer": "ipython3",
   "version": "3.9.13"
  }
 },
 "nbformat": 4,
 "nbformat_minor": 5
}
